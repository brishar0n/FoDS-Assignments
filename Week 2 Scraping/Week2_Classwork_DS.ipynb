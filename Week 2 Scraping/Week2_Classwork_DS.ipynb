{
  "cells": [
    {
      "cell_type": "code",
      "execution_count": 52,
      "metadata": {
        "id": "JsbkgT0H1Vgu"
      },
      "outputs": [],
      "source": [
        "from bs4 import BeautifulSoup\n",
        "from google.colab import files\n",
        "import requests\n",
        "import re\n",
        "import pandas as pd"
      ]
    },
    {
      "cell_type": "code",
      "execution_count": 53,
      "metadata": {
        "id": "v_UfoV7d1Vgv"
      },
      "outputs": [],
      "source": [
        "url = \"https://www.imdb.com/title/tt14452776/episodes/?season=2\"\n",
        "url2 = \"https://www.tvguide.com/tvshows/the-bear/episodes-season-2/1000976418/\"\n",
        "headers = {'User-Agent': 'Mozilla/5.0 (Macintosh; Intel Mac OS X 10_11_5) AppleWebKit/537.36 (KHTML, like Gecko) Chrome/50.0.2661.102 Safari/537.36'}\n",
        "\n",
        "response = requests.get(url, headers=headers)\n",
        "response2 = requests.get(url2, headers=headers)\n",
        "\n",
        "soup = BeautifulSoup(response.content, 'html.parser')\n",
        "soup2 = BeautifulSoup(response2.content, 'html.parser')"
      ]
    },
    {
      "cell_type": "code",
      "execution_count": 54,
      "metadata": {
        "colab": {
          "base_uri": "https://localhost:8080/"
        },
        "id": "t4vGQTFN1Vgw",
        "outputId": "72dceeae-7bfd-49e6-8034-6a6c0d6b9f68"
      },
      "outputs": [
        {
          "output_type": "stream",
          "name": "stdout",
          "text": [
            "<a class=\"sc-1318654d-8 bglHll\" href=\"/title/tt21281442/?ref_=ttep_ep1\">S2.E1 ∙ Beef</a>\n",
            "<a class=\"sc-1318654d-8 bglHll\" href=\"/title/tt26230348/?ref_=ttep_ep2\">S2.E2 ∙ Pasta</a>\n",
            "<a class=\"sc-1318654d-8 bglHll\" href=\"/title/tt26230374/?ref_=ttep_ep3\">S2.E3 ∙ Sundae</a>\n",
            "<a class=\"sc-1318654d-8 bglHll\" href=\"/title/tt26230376/?ref_=ttep_ep4\">S2.E4 ∙ Honeydew</a>\n",
            "<a class=\"sc-1318654d-8 bglHll\" href=\"/title/tt26230380/?ref_=ttep_ep5\">S2.E5 ∙ Pop</a>\n",
            "<a class=\"sc-1318654d-8 bglHll\" href=\"/title/tt26230386/?ref_=ttep_ep6\">S2.E6 ∙ Fishes</a>\n",
            "<a class=\"sc-1318654d-8 bglHll\" href=\"/title/tt26230388/?ref_=ttep_ep7\">S2.E7 ∙ Forks</a>\n",
            "<a class=\"sc-1318654d-8 bglHll\" href=\"/title/tt26230390/?ref_=ttep_ep8\">S2.E8 ∙ Bolognese</a>\n",
            "<a class=\"sc-1318654d-8 bglHll\" href=\"/title/tt26230394/?ref_=ttep_ep9\">S2.E9 ∙ Omelette</a>\n",
            "<a class=\"sc-1318654d-8 bglHll\" href=\"/title/tt26230396/?ref_=ttep_ep10\">S2.E10 ∙ The Bear</a>\n"
          ]
        }
      ],
      "source": [
        "film = soup.select('a.sc-1318654d-8')\n",
        "for i in film:\n",
        "    print(i)\n",
        "\n",
        "film2 = soup2.select('_1zc788KtPN0EmaoSx7RUA_ ON_SURFACE_DEFAULT MvlQ2LsYGZlXSZctIjAr3 ')\n",
        "for i in film2:\n",
        "    print(i)"
      ]
    },
    {
      "cell_type": "code",
      "execution_count": 55,
      "metadata": {
        "colab": {
          "base_uri": "https://localhost:8080/"
        },
        "id": "SOu2AzvP1Vgx",
        "outputId": "4e5742e0-a18d-49fa-bda2-941f58b797bb"
      },
      "outputs": [
        {
          "output_type": "stream",
          "name": "stdout",
          "text": [
            "S2.E1 ∙ Beef\n",
            "S2.E2 ∙ Pasta\n",
            "S2.E3 ∙ Sundae\n",
            "S2.E4 ∙ Honeydew\n",
            "S2.E5 ∙ Pop\n",
            "S2.E6 ∙ Fishes\n",
            "S2.E7 ∙ Forks\n",
            "S2.E8 ∙ Bolognese\n",
            "S2.E9 ∙ Omelette\n",
            "S2.E10 ∙ The Bear\n"
          ]
        }
      ],
      "source": [
        "title = [t.get_text() for t in film]\n",
        "for i in title:\n",
        "    print(i)\n",
        "\n",
        "title2 = [t.get_text() for t in film2]\n",
        "for i in title2:\n",
        "    print(i)"
      ]
    },
    {
      "cell_type": "code",
      "source": [
        "# Season\n",
        "season = []\n",
        "for i in title:\n",
        "    string = \"\"\n",
        "    pos = i.find(\"S\")\n",
        "    while (True):\n",
        "        if (i[pos+1].isdigit()):\n",
        "            string += i[pos+1]\n",
        "            pos += 1\n",
        "        else:\n",
        "            season += [string]\n",
        "            break\n",
        "\n",
        "for i in season:\n",
        "    print(i)"
      ],
      "metadata": {
        "colab": {
          "base_uri": "https://localhost:8080/"
        },
        "id": "TASfpNU0Bv8q",
        "outputId": "6de43be8-90d1-40bd-873c-4cb6ec4233ee"
      },
      "execution_count": 56,
      "outputs": [
        {
          "output_type": "stream",
          "name": "stdout",
          "text": [
            "2\n",
            "2\n",
            "2\n",
            "2\n",
            "2\n",
            "2\n",
            "2\n",
            "2\n",
            "2\n",
            "2\n"
          ]
        }
      ]
    },
    {
      "cell_type": "code",
      "execution_count": 57,
      "metadata": {
        "colab": {
          "base_uri": "https://localhost:8080/"
        },
        "id": "-gXtSzOL1Vgx",
        "outputId": "5659f3b4-0063-4b5d-fc10-85a1936ee0d9"
      },
      "outputs": [
        {
          "output_type": "stream",
          "name": "stdout",
          "text": [
            "1\n",
            "2\n",
            "3\n",
            "4\n",
            "5\n",
            "6\n",
            "7\n",
            "8\n",
            "9\n",
            "10\n"
          ]
        }
      ],
      "source": [
        "# Episode Number\n",
        "episode = []\n",
        "\n",
        "for i in title:\n",
        "    string = \"\"\n",
        "    pos = i.find(\"E\")\n",
        "    while (True):\n",
        "        if (i[pos+1].isdigit()):\n",
        "            string += i[pos+1]\n",
        "            pos += 1\n",
        "        else:\n",
        "            episode += [string]\n",
        "            break\n",
        "\n",
        "for i in episode:\n",
        "    print(i)"
      ]
    },
    {
      "cell_type": "code",
      "execution_count": 58,
      "metadata": {
        "colab": {
          "base_uri": "https://localhost:8080/"
        },
        "id": "f1QMqAdV1Vgy",
        "outputId": "c5b78761-e0fc-4131-9103-7ecc7b60ccac"
      },
      "outputs": [
        {
          "output_type": "stream",
          "name": "stdout",
          "text": [
            "Beef\n",
            "Pasta\n",
            "Sundae\n",
            "Honeydew\n",
            "Pop\n",
            "Fishes\n",
            "Forks\n",
            "Bolognese\n",
            "Omelette\n",
            " The Bear\n"
          ]
        }
      ],
      "source": [
        "# Episode Title\n",
        "\n",
        "filmTitle = [i[8:len(i)]for i in title]\n",
        "for i in filmTitle:\n",
        "    print(i)"
      ]
    },
    {
      "cell_type": "code",
      "execution_count": 59,
      "metadata": {
        "colab": {
          "base_uri": "https://localhost:8080/"
        },
        "id": "xRIoe98N1Vgz",
        "outputId": "d3ce9f7c-a874-4259-90f1-e79005a597e4"
      },
      "outputs": [
        {
          "output_type": "stream",
          "name": "stdout",
          "text": [
            "Faced with the reality of opening a new restaurant, the crew must make a plan.\n",
            "The crew splits up to work towards their new vision.\n",
            "Sydney searches Chicago for culinary inspiration.\n",
            "Marcus challenges himself.\n",
            "The renovation gets off track.\n",
            "Flashback to an intense and heated Christmas dinner in the Berzatto family.\n",
            "Richie stages.\n",
            "The crew awaits a do or die fire suppression test.\n",
            "Final preparations are made for The Bear's first service.\n",
            "Friends and Family night at The Bear.\n"
          ]
        }
      ],
      "source": [
        "# Description\n",
        "desc = soup.select('div.sc-1318654d-11')\n",
        "descTitle = [t.get_text() for t in desc]\n",
        "\n",
        "for i in descTitle:\n",
        "    print(i)"
      ]
    },
    {
      "cell_type": "code",
      "source": [
        "# Duration\n",
        "\n",
        "duration = soup2.select('span.c-tvObjectEpisodes_duration')\n",
        "durationTitle = [t.get_text()for t in duration]\n",
        "\n",
        "for i in durationTitle:\n",
        "    print(i)"
      ],
      "metadata": {
        "colab": {
          "base_uri": "https://localhost:8080/"
        },
        "id": "M-7vWqm9Lri3",
        "outputId": "51d64afc-e074-491c-e554-02fd3f209a80"
      },
      "execution_count": 60,
      "outputs": [
        {
          "output_type": "stream",
          "name": "stdout",
          "text": [
            "30 mins\n",
            "30 mins\n",
            "30 mins\n",
            "30 mins\n",
            "30 mins\n",
            "30 mins\n",
            "30 mins\n",
            "30 mins\n",
            "30 mins\n",
            "30 mins\n"
          ]
        }
      ]
    },
    {
      "cell_type": "code",
      "execution_count": 61,
      "metadata": {
        "colab": {
          "base_uri": "https://localhost:8080/"
        },
        "id": "knDZgdaV1Vgz",
        "outputId": "5bfa3cdd-c741-4255-a41b-c1e3a511a2fb"
      },
      "outputs": [
        {
          "output_type": "stream",
          "name": "stdout",
          "text": [
            "Thu, Jun 22, 2023\n",
            "Thu, Jun 22, 2023\n",
            "Thu, Jun 22, 2023\n",
            "Thu, Jun 22, 2023\n",
            "Thu, Jun 22, 2023\n",
            "Thu, Jun 22, 2023\n",
            "Thu, Jun 22, 2023\n",
            "Thu, Jun 22, 2023\n",
            "Thu, Jun 22, 2023\n",
            "Thu, Jun 22, 2023\n"
          ]
        }
      ],
      "source": [
        "# Release Date\n",
        "releaseDate = soup.select('span.sc-1318654d-10')\n",
        "releaseDateTitle = [t.get_text()for t in releaseDate]\n",
        "\n",
        "for i in releaseDateTitle:\n",
        "    print(i)"
      ]
    },
    {
      "cell_type": "code",
      "execution_count": 62,
      "metadata": {
        "colab": {
          "base_uri": "https://localhost:8080/"
        },
        "id": "_QekoUGC1Vgy",
        "outputId": "b1a78b8b-00b9-45cb-be77-ea84fed79a2a"
      },
      "outputs": [
        {
          "output_type": "stream",
          "name": "stdout",
          "text": [
            "8.0\n",
            "8.0\n",
            "8.0\n",
            "8.8\n",
            "8.1\n",
            "9.6\n",
            "9.7\n",
            "8.8\n",
            "8.9\n",
            "9.4\n"
          ]
        }
      ],
      "source": [
        "# Rating\n",
        "rating = soup.select('span.ipc-rating-star--imdb')\n",
        "ratingTitle = [t.get_text()[0:3] for t in rating]\n",
        "\n",
        "for i in ratingTitle:\n",
        "    print(i)"
      ]
    },
    {
      "cell_type": "code",
      "execution_count": 63,
      "metadata": {
        "id": "LPHQvhaG1Vgz"
      },
      "outputs": [],
      "source": [
        "listMovies = []\n",
        "for i in range (len(film)):\n",
        "    data = {\"Season\": season[i],\n",
        "        \"Episode #\": episode[i],\n",
        "        \"Episode Title\": filmTitle[i],\n",
        "        \"Duration\": durationTitle[i],\n",
        "        \"Description\": descTitle[i],\n",
        "        \"Release Date\": releaseDateTitle[i],\n",
        "        \"Rating\":ratingTitle[i]}\n",
        "    listMovies.append(data)"
      ]
    },
    {
      "cell_type": "code",
      "execution_count": 64,
      "metadata": {
        "colab": {
          "base_uri": "https://localhost:8080/"
        },
        "id": "EMbbqi6N1Vgz",
        "outputId": "25f5b5d3-1dc6-403a-c4af-e302aa6b1fd4"
      },
      "outputs": [
        {
          "output_type": "stream",
          "name": "stdout",
          "text": [
            "  Season Episode # Episode Title Duration  \\\n",
            "0      2         1          Beef  30 mins   \n",
            "1      2         2         Pasta  30 mins   \n",
            "2      2         3        Sundae  30 mins   \n",
            "3      2         4      Honeydew  30 mins   \n",
            "4      2         5           Pop  30 mins   \n",
            "\n",
            "                                         Description       Release Date Rating  \n",
            "0  Faced with the reality of opening a new restau...  Thu, Jun 22, 2023    8.0  \n",
            "1  The crew splits up to work towards their new v...  Thu, Jun 22, 2023    8.0  \n",
            "2  Sydney searches Chicago for culinary inspiration.  Thu, Jun 22, 2023    8.0  \n",
            "3                         Marcus challenges himself.  Thu, Jun 22, 2023    8.8  \n",
            "4                     The renovation gets off track.  Thu, Jun 22, 2023    8.1  \n"
          ]
        }
      ],
      "source": [
        "df = pd.DataFrame(listMovies, columns = ['Season', 'Episode #', 'Episode Title', 'Duration', 'Description', 'Release Date', 'Rating'])\n",
        "print (df.head())"
      ]
    },
    {
      "cell_type": "code",
      "execution_count": 65,
      "metadata": {
        "id": "XH8va2-F1Vgz",
        "colab": {
          "base_uri": "https://localhost:8080/",
          "height": 17
        },
        "outputId": "6c343555-b362-4fe8-c6a1-499628762484"
      },
      "outputs": [
        {
          "output_type": "display_data",
          "data": {
            "text/plain": [
              "<IPython.core.display.Javascript object>"
            ],
            "application/javascript": [
              "\n",
              "    async function download(id, filename, size) {\n",
              "      if (!google.colab.kernel.accessAllowed) {\n",
              "        return;\n",
              "      }\n",
              "      const div = document.createElement('div');\n",
              "      const label = document.createElement('label');\n",
              "      label.textContent = `Downloading \"${filename}\": `;\n",
              "      div.appendChild(label);\n",
              "      const progress = document.createElement('progress');\n",
              "      progress.max = size;\n",
              "      div.appendChild(progress);\n",
              "      document.body.appendChild(div);\n",
              "\n",
              "      const buffers = [];\n",
              "      let downloaded = 0;\n",
              "\n",
              "      const channel = await google.colab.kernel.comms.open(id);\n",
              "      // Send a message to notify the kernel that we're ready.\n",
              "      channel.send({})\n",
              "\n",
              "      for await (const message of channel.messages) {\n",
              "        // Send a message to notify the kernel that we're ready.\n",
              "        channel.send({})\n",
              "        if (message.buffers) {\n",
              "          for (const buffer of message.buffers) {\n",
              "            buffers.push(buffer);\n",
              "            downloaded += buffer.byteLength;\n",
              "            progress.value = downloaded;\n",
              "          }\n",
              "        }\n",
              "      }\n",
              "      const blob = new Blob(buffers, {type: 'application/binary'});\n",
              "      const a = document.createElement('a');\n",
              "      a.href = window.URL.createObjectURL(blob);\n",
              "      a.download = filename;\n",
              "      div.appendChild(a);\n",
              "      a.click();\n",
              "      div.remove();\n",
              "    }\n",
              "  "
            ]
          },
          "metadata": {}
        },
        {
          "output_type": "display_data",
          "data": {
            "text/plain": [
              "<IPython.core.display.Javascript object>"
            ],
            "application/javascript": [
              "download(\"download_b4e11711-6838-477a-bca5-ad7cbf4875f9\", \"thebear.csv\", 1007)"
            ]
          },
          "metadata": {}
        }
      ],
      "source": [
        "df.to_csv('thebear.csv')\n",
        "files.download('thebear.csv')"
      ]
    },
    {
      "cell_type": "code",
      "execution_count": 66,
      "metadata": {
        "colab": {
          "base_uri": "https://localhost:8080/",
          "height": 363
        },
        "id": "Ca6igfex1Vg0",
        "outputId": "c36345e5-8e2f-47d7-ec4b-c35f7d03487a"
      },
      "outputs": [
        {
          "output_type": "execute_result",
          "data": {
            "text/plain": [
              "   Season  Episode # Episode Title Duration  \\\n",
              "0       2          1          Beef  30 mins   \n",
              "1       2          2         Pasta  30 mins   \n",
              "2       2          3        Sundae  30 mins   \n",
              "3       2          4      Honeydew  30 mins   \n",
              "4       2          5           Pop  30 mins   \n",
              "5       2          6        Fishes  30 mins   \n",
              "6       2          7         Forks  30 mins   \n",
              "7       2          8     Bolognese  30 mins   \n",
              "8       2          9      Omelette  30 mins   \n",
              "9       2         10      The Bear  30 mins   \n",
              "\n",
              "                                         Description       Release Date  \\\n",
              "0  Faced with the reality of opening a new restau...  Thu, Jun 22, 2023   \n",
              "1  The crew splits up to work towards their new v...  Thu, Jun 22, 2023   \n",
              "2  Sydney searches Chicago for culinary inspiration.  Thu, Jun 22, 2023   \n",
              "3                         Marcus challenges himself.  Thu, Jun 22, 2023   \n",
              "4                     The renovation gets off track.  Thu, Jun 22, 2023   \n",
              "5  Flashback to an intense and heated Christmas d...  Thu, Jun 22, 2023   \n",
              "6                                     Richie stages.  Thu, Jun 22, 2023   \n",
              "7  The crew awaits a do or die fire suppression t...  Thu, Jun 22, 2023   \n",
              "8  Final preparations are made for The Bear's fir...  Thu, Jun 22, 2023   \n",
              "9              Friends and Family night at The Bear.  Thu, Jun 22, 2023   \n",
              "\n",
              "   Rating  \n",
              "0     8.0  \n",
              "1     8.0  \n",
              "2     8.0  \n",
              "3     8.8  \n",
              "4     8.1  \n",
              "5     9.6  \n",
              "6     9.7  \n",
              "7     8.8  \n",
              "8     8.9  \n",
              "9     9.4  "
            ],
            "text/html": [
              "\n",
              "  <div id=\"df-091707d8-1c6e-4fff-b53b-af8c7254e0cd\" class=\"colab-df-container\">\n",
              "    <div>\n",
              "<style scoped>\n",
              "    .dataframe tbody tr th:only-of-type {\n",
              "        vertical-align: middle;\n",
              "    }\n",
              "\n",
              "    .dataframe tbody tr th {\n",
              "        vertical-align: top;\n",
              "    }\n",
              "\n",
              "    .dataframe thead th {\n",
              "        text-align: right;\n",
              "    }\n",
              "</style>\n",
              "<table border=\"1\" class=\"dataframe\">\n",
              "  <thead>\n",
              "    <tr style=\"text-align: right;\">\n",
              "      <th></th>\n",
              "      <th>Season</th>\n",
              "      <th>Episode #</th>\n",
              "      <th>Episode Title</th>\n",
              "      <th>Duration</th>\n",
              "      <th>Description</th>\n",
              "      <th>Release Date</th>\n",
              "      <th>Rating</th>\n",
              "    </tr>\n",
              "  </thead>\n",
              "  <tbody>\n",
              "    <tr>\n",
              "      <th>0</th>\n",
              "      <td>2</td>\n",
              "      <td>1</td>\n",
              "      <td>Beef</td>\n",
              "      <td>30 mins</td>\n",
              "      <td>Faced with the reality of opening a new restau...</td>\n",
              "      <td>Thu, Jun 22, 2023</td>\n",
              "      <td>8.0</td>\n",
              "    </tr>\n",
              "    <tr>\n",
              "      <th>1</th>\n",
              "      <td>2</td>\n",
              "      <td>2</td>\n",
              "      <td>Pasta</td>\n",
              "      <td>30 mins</td>\n",
              "      <td>The crew splits up to work towards their new v...</td>\n",
              "      <td>Thu, Jun 22, 2023</td>\n",
              "      <td>8.0</td>\n",
              "    </tr>\n",
              "    <tr>\n",
              "      <th>2</th>\n",
              "      <td>2</td>\n",
              "      <td>3</td>\n",
              "      <td>Sundae</td>\n",
              "      <td>30 mins</td>\n",
              "      <td>Sydney searches Chicago for culinary inspiration.</td>\n",
              "      <td>Thu, Jun 22, 2023</td>\n",
              "      <td>8.0</td>\n",
              "    </tr>\n",
              "    <tr>\n",
              "      <th>3</th>\n",
              "      <td>2</td>\n",
              "      <td>4</td>\n",
              "      <td>Honeydew</td>\n",
              "      <td>30 mins</td>\n",
              "      <td>Marcus challenges himself.</td>\n",
              "      <td>Thu, Jun 22, 2023</td>\n",
              "      <td>8.8</td>\n",
              "    </tr>\n",
              "    <tr>\n",
              "      <th>4</th>\n",
              "      <td>2</td>\n",
              "      <td>5</td>\n",
              "      <td>Pop</td>\n",
              "      <td>30 mins</td>\n",
              "      <td>The renovation gets off track.</td>\n",
              "      <td>Thu, Jun 22, 2023</td>\n",
              "      <td>8.1</td>\n",
              "    </tr>\n",
              "    <tr>\n",
              "      <th>5</th>\n",
              "      <td>2</td>\n",
              "      <td>6</td>\n",
              "      <td>Fishes</td>\n",
              "      <td>30 mins</td>\n",
              "      <td>Flashback to an intense and heated Christmas d...</td>\n",
              "      <td>Thu, Jun 22, 2023</td>\n",
              "      <td>9.6</td>\n",
              "    </tr>\n",
              "    <tr>\n",
              "      <th>6</th>\n",
              "      <td>2</td>\n",
              "      <td>7</td>\n",
              "      <td>Forks</td>\n",
              "      <td>30 mins</td>\n",
              "      <td>Richie stages.</td>\n",
              "      <td>Thu, Jun 22, 2023</td>\n",
              "      <td>9.7</td>\n",
              "    </tr>\n",
              "    <tr>\n",
              "      <th>7</th>\n",
              "      <td>2</td>\n",
              "      <td>8</td>\n",
              "      <td>Bolognese</td>\n",
              "      <td>30 mins</td>\n",
              "      <td>The crew awaits a do or die fire suppression t...</td>\n",
              "      <td>Thu, Jun 22, 2023</td>\n",
              "      <td>8.8</td>\n",
              "    </tr>\n",
              "    <tr>\n",
              "      <th>8</th>\n",
              "      <td>2</td>\n",
              "      <td>9</td>\n",
              "      <td>Omelette</td>\n",
              "      <td>30 mins</td>\n",
              "      <td>Final preparations are made for The Bear's fir...</td>\n",
              "      <td>Thu, Jun 22, 2023</td>\n",
              "      <td>8.9</td>\n",
              "    </tr>\n",
              "    <tr>\n",
              "      <th>9</th>\n",
              "      <td>2</td>\n",
              "      <td>10</td>\n",
              "      <td>The Bear</td>\n",
              "      <td>30 mins</td>\n",
              "      <td>Friends and Family night at The Bear.</td>\n",
              "      <td>Thu, Jun 22, 2023</td>\n",
              "      <td>9.4</td>\n",
              "    </tr>\n",
              "  </tbody>\n",
              "</table>\n",
              "</div>\n",
              "    <div class=\"colab-df-buttons\">\n",
              "\n",
              "  <div class=\"colab-df-container\">\n",
              "    <button class=\"colab-df-convert\" onclick=\"convertToInteractive('df-091707d8-1c6e-4fff-b53b-af8c7254e0cd')\"\n",
              "            title=\"Convert this dataframe to an interactive table.\"\n",
              "            style=\"display:none;\">\n",
              "\n",
              "  <svg xmlns=\"http://www.w3.org/2000/svg\" height=\"24px\" viewBox=\"0 -960 960 960\">\n",
              "    <path d=\"M120-120v-720h720v720H120Zm60-500h600v-160H180v160Zm220 220h160v-160H400v160Zm0 220h160v-160H400v160ZM180-400h160v-160H180v160Zm440 0h160v-160H620v160ZM180-180h160v-160H180v160Zm440 0h160v-160H620v160Z\"/>\n",
              "  </svg>\n",
              "    </button>\n",
              "\n",
              "  <style>\n",
              "    .colab-df-container {\n",
              "      display:flex;\n",
              "      gap: 12px;\n",
              "    }\n",
              "\n",
              "    .colab-df-convert {\n",
              "      background-color: #E8F0FE;\n",
              "      border: none;\n",
              "      border-radius: 50%;\n",
              "      cursor: pointer;\n",
              "      display: none;\n",
              "      fill: #1967D2;\n",
              "      height: 32px;\n",
              "      padding: 0 0 0 0;\n",
              "      width: 32px;\n",
              "    }\n",
              "\n",
              "    .colab-df-convert:hover {\n",
              "      background-color: #E2EBFA;\n",
              "      box-shadow: 0px 1px 2px rgba(60, 64, 67, 0.3), 0px 1px 3px 1px rgba(60, 64, 67, 0.15);\n",
              "      fill: #174EA6;\n",
              "    }\n",
              "\n",
              "    .colab-df-buttons div {\n",
              "      margin-bottom: 4px;\n",
              "    }\n",
              "\n",
              "    [theme=dark] .colab-df-convert {\n",
              "      background-color: #3B4455;\n",
              "      fill: #D2E3FC;\n",
              "    }\n",
              "\n",
              "    [theme=dark] .colab-df-convert:hover {\n",
              "      background-color: #434B5C;\n",
              "      box-shadow: 0px 1px 3px 1px rgba(0, 0, 0, 0.15);\n",
              "      filter: drop-shadow(0px 1px 2px rgba(0, 0, 0, 0.3));\n",
              "      fill: #FFFFFF;\n",
              "    }\n",
              "  </style>\n",
              "\n",
              "    <script>\n",
              "      const buttonEl =\n",
              "        document.querySelector('#df-091707d8-1c6e-4fff-b53b-af8c7254e0cd button.colab-df-convert');\n",
              "      buttonEl.style.display =\n",
              "        google.colab.kernel.accessAllowed ? 'block' : 'none';\n",
              "\n",
              "      async function convertToInteractive(key) {\n",
              "        const element = document.querySelector('#df-091707d8-1c6e-4fff-b53b-af8c7254e0cd');\n",
              "        const dataTable =\n",
              "          await google.colab.kernel.invokeFunction('convertToInteractive',\n",
              "                                                    [key], {});\n",
              "        if (!dataTable) return;\n",
              "\n",
              "        const docLinkHtml = 'Like what you see? Visit the ' +\n",
              "          '<a target=\"_blank\" href=https://colab.research.google.com/notebooks/data_table.ipynb>data table notebook</a>'\n",
              "          + ' to learn more about interactive tables.';\n",
              "        element.innerHTML = '';\n",
              "        dataTable['output_type'] = 'display_data';\n",
              "        await google.colab.output.renderOutput(dataTable, element);\n",
              "        const docLink = document.createElement('div');\n",
              "        docLink.innerHTML = docLinkHtml;\n",
              "        element.appendChild(docLink);\n",
              "      }\n",
              "    </script>\n",
              "  </div>\n",
              "\n",
              "\n",
              "<div id=\"df-48e73ee0-3bee-445d-9835-1994a47b3a37\">\n",
              "  <button class=\"colab-df-quickchart\" onclick=\"quickchart('df-48e73ee0-3bee-445d-9835-1994a47b3a37')\"\n",
              "            title=\"Suggest charts.\"\n",
              "            style=\"display:none;\">\n",
              "\n",
              "<svg xmlns=\"http://www.w3.org/2000/svg\" height=\"24px\"viewBox=\"0 0 24 24\"\n",
              "     width=\"24px\">\n",
              "    <g>\n",
              "        <path d=\"M19 3H5c-1.1 0-2 .9-2 2v14c0 1.1.9 2 2 2h14c1.1 0 2-.9 2-2V5c0-1.1-.9-2-2-2zM9 17H7v-7h2v7zm4 0h-2V7h2v10zm4 0h-2v-4h2v4z\"/>\n",
              "    </g>\n",
              "</svg>\n",
              "  </button>\n",
              "\n",
              "<style>\n",
              "  .colab-df-quickchart {\n",
              "      --bg-color: #E8F0FE;\n",
              "      --fill-color: #1967D2;\n",
              "      --hover-bg-color: #E2EBFA;\n",
              "      --hover-fill-color: #174EA6;\n",
              "      --disabled-fill-color: #AAA;\n",
              "      --disabled-bg-color: #DDD;\n",
              "  }\n",
              "\n",
              "  [theme=dark] .colab-df-quickchart {\n",
              "      --bg-color: #3B4455;\n",
              "      --fill-color: #D2E3FC;\n",
              "      --hover-bg-color: #434B5C;\n",
              "      --hover-fill-color: #FFFFFF;\n",
              "      --disabled-bg-color: #3B4455;\n",
              "      --disabled-fill-color: #666;\n",
              "  }\n",
              "\n",
              "  .colab-df-quickchart {\n",
              "    background-color: var(--bg-color);\n",
              "    border: none;\n",
              "    border-radius: 50%;\n",
              "    cursor: pointer;\n",
              "    display: none;\n",
              "    fill: var(--fill-color);\n",
              "    height: 32px;\n",
              "    padding: 0;\n",
              "    width: 32px;\n",
              "  }\n",
              "\n",
              "  .colab-df-quickchart:hover {\n",
              "    background-color: var(--hover-bg-color);\n",
              "    box-shadow: 0 1px 2px rgba(60, 64, 67, 0.3), 0 1px 3px 1px rgba(60, 64, 67, 0.15);\n",
              "    fill: var(--button-hover-fill-color);\n",
              "  }\n",
              "\n",
              "  .colab-df-quickchart-complete:disabled,\n",
              "  .colab-df-quickchart-complete:disabled:hover {\n",
              "    background-color: var(--disabled-bg-color);\n",
              "    fill: var(--disabled-fill-color);\n",
              "    box-shadow: none;\n",
              "  }\n",
              "\n",
              "  .colab-df-spinner {\n",
              "    border: 2px solid var(--fill-color);\n",
              "    border-color: transparent;\n",
              "    border-bottom-color: var(--fill-color);\n",
              "    animation:\n",
              "      spin 1s steps(1) infinite;\n",
              "  }\n",
              "\n",
              "  @keyframes spin {\n",
              "    0% {\n",
              "      border-color: transparent;\n",
              "      border-bottom-color: var(--fill-color);\n",
              "      border-left-color: var(--fill-color);\n",
              "    }\n",
              "    20% {\n",
              "      border-color: transparent;\n",
              "      border-left-color: var(--fill-color);\n",
              "      border-top-color: var(--fill-color);\n",
              "    }\n",
              "    30% {\n",
              "      border-color: transparent;\n",
              "      border-left-color: var(--fill-color);\n",
              "      border-top-color: var(--fill-color);\n",
              "      border-right-color: var(--fill-color);\n",
              "    }\n",
              "    40% {\n",
              "      border-color: transparent;\n",
              "      border-right-color: var(--fill-color);\n",
              "      border-top-color: var(--fill-color);\n",
              "    }\n",
              "    60% {\n",
              "      border-color: transparent;\n",
              "      border-right-color: var(--fill-color);\n",
              "    }\n",
              "    80% {\n",
              "      border-color: transparent;\n",
              "      border-right-color: var(--fill-color);\n",
              "      border-bottom-color: var(--fill-color);\n",
              "    }\n",
              "    90% {\n",
              "      border-color: transparent;\n",
              "      border-bottom-color: var(--fill-color);\n",
              "    }\n",
              "  }\n",
              "</style>\n",
              "\n",
              "  <script>\n",
              "    async function quickchart(key) {\n",
              "      const quickchartButtonEl =\n",
              "        document.querySelector('#' + key + ' button');\n",
              "      quickchartButtonEl.disabled = true;  // To prevent multiple clicks.\n",
              "      quickchartButtonEl.classList.add('colab-df-spinner');\n",
              "      try {\n",
              "        const charts = await google.colab.kernel.invokeFunction(\n",
              "            'suggestCharts', [key], {});\n",
              "      } catch (error) {\n",
              "        console.error('Error during call to suggestCharts:', error);\n",
              "      }\n",
              "      quickchartButtonEl.classList.remove('colab-df-spinner');\n",
              "      quickchartButtonEl.classList.add('colab-df-quickchart-complete');\n",
              "    }\n",
              "    (() => {\n",
              "      let quickchartButtonEl =\n",
              "        document.querySelector('#df-48e73ee0-3bee-445d-9835-1994a47b3a37 button');\n",
              "      quickchartButtonEl.style.display =\n",
              "        google.colab.kernel.accessAllowed ? 'block' : 'none';\n",
              "    })();\n",
              "  </script>\n",
              "</div>\n",
              "    </div>\n",
              "  </div>\n"
            ]
          },
          "metadata": {},
          "execution_count": 66
        }
      ],
      "source": [
        "pd.read_csv(\"thebear.csv\", index_col=0)"
      ]
    }
  ],
  "metadata": {
    "kernelspec": {
      "display_name": "Python 3",
      "language": "python",
      "name": "python3"
    },
    "language_info": {
      "codemirror_mode": {
        "name": "ipython",
        "version": 3
      },
      "file_extension": ".py",
      "mimetype": "text/x-python",
      "name": "python",
      "nbconvert_exporter": "python",
      "pygments_lexer": "ipython3",
      "version": "3.11.2"
    },
    "orig_nbformat": 4,
    "colab": {
      "provenance": [],
      "toc_visible": true
    }
  },
  "nbformat": 4,
  "nbformat_minor": 0
}