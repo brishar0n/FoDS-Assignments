{
  "nbformat": 4,
  "nbformat_minor": 0,
  "metadata": {
    "colab": {
      "provenance": []
    },
    "kernelspec": {
      "name": "python3",
      "display_name": "Python 3"
    },
    "language_info": {
      "name": "python"
    }
  },
  "cells": [
    {
      "cell_type": "code",
      "execution_count": 1,
      "metadata": {
        "id": "rv1WKcYRN3lc",
        "colab": {
          "base_uri": "https://localhost:8080/"
        },
        "outputId": "63e964b0-5864-49bb-8baa-d92d2680aa93"
      },
      "outputs": [
        {
          "output_type": "stream",
          "name": "stdout",
          "text": [
            "Drive already mounted at /content/gdrive; to attempt to forcibly remount, call drive.mount(\"/content/gdrive\", force_remount=True).\n"
          ]
        }
      ],
      "source": [
        "import pandas as pd\n",
        "from math import sqrt\n",
        "import numpy as np\n",
        "\n",
        "from google.colab import drive\n",
        "drive.mount('/content/gdrive')"
      ]
    },
    {
      "cell_type": "code",
      "source": [
        "movies = pd.read_csv('gdrive/My Drive/movies.csv')\n",
        "ratings = pd.read_csv('gdrive/My Drive/ratings.csv')\n",
        "movies.info()"
      ],
      "metadata": {
        "colab": {
          "base_uri": "https://localhost:8080/"
        },
        "id": "W894mfV9xWXb",
        "outputId": "9a11871d-6f5a-4ac4-8280-aa389b2f2957"
      },
      "execution_count": 21,
      "outputs": [
        {
          "output_type": "stream",
          "name": "stdout",
          "text": [
            "<class 'pandas.core.frame.DataFrame'>\n",
            "RangeIndex: 62423 entries, 0 to 62422\n",
            "Data columns (total 3 columns):\n",
            " #   Column   Non-Null Count  Dtype \n",
            "---  ------   --------------  ----- \n",
            " 0   movieId  62423 non-null  int64 \n",
            " 1   title    62423 non-null  object\n",
            " 2   genres   62423 non-null  object\n",
            "dtypes: int64(1), object(2)\n",
            "memory usage: 1.4+ MB\n"
          ]
        }
      ]
    },
    {
      "cell_type": "code",
      "source": [
        "userInput = [{'title':'Everything Everywhere All At Once (2022)', 'rating':5},\n",
        "             {'title':'How to Lose a Guy in 10 Days (2003)', 'rating':3.5},\n",
        "             {'title':'Before Sunrise (1995)', 'rating':4},\n",
        "             {'title':'Spirited Away (2001)', 'rating':4.5},\n",
        "             {'title':'Pride & Prejudice (2005)', 'rating':4}]\n",
        "inputMovies = pd.DataFrame(userInput)\n",
        "print(inputMovies)"
      ],
      "metadata": {
        "colab": {
          "base_uri": "https://localhost:8080/"
        },
        "id": "uXrU7PnFy6h_",
        "outputId": "15b4cb54-882a-485e-a3bc-c44c6c3a6417"
      },
      "execution_count": 3,
      "outputs": [
        {
          "output_type": "stream",
          "name": "stdout",
          "text": [
            "                                      title  rating\n",
            "0  Everything Everywhere All At Once (2022)     5.0\n",
            "1       How to Lose a Guy in 10 Days (2003)     3.5\n",
            "2                     Before Sunrise (1995)     4.0\n",
            "3                      Spirited Away (2001)     4.5\n",
            "4                  Pride & Prejudice (2005)     4.0\n"
          ]
        }
      ]
    },
    {
      "cell_type": "code",
      "source": [
        "inputId = movies[movies['title'].isin(inputMovies['title'].tolist())]\n",
        "inputMovies = pd.merge(inputId, inputMovies)\n",
        "inputMovies = inputMovies.drop('genres', 1)\n",
        "inputMovies = inputMovies[['movieId','title','rating']]\n",
        "print(inputMovies)"
      ],
      "metadata": {
        "colab": {
          "base_uri": "https://localhost:8080/"
        },
        "id": "03cFq3CNzBY8",
        "outputId": "dd4e600d-f960-44e7-fd16-ba68278cb642"
      },
      "execution_count": 4,
      "outputs": [
        {
          "output_type": "stream",
          "name": "stdout",
          "text": [
            "   movieId                                title  rating\n",
            "0      215                Before Sunrise (1995)     4.0\n",
            "1     6155  How to Lose a Guy in 10 Days (2003)     3.5\n",
            "2    40629             Pride & Prejudice (2005)     4.0\n"
          ]
        },
        {
          "output_type": "stream",
          "name": "stderr",
          "text": [
            "<ipython-input-4-b234746ee70f>:3: FutureWarning: In a future version of pandas all arguments of DataFrame.drop except for the argument 'labels' will be keyword-only.\n",
            "  inputMovies = inputMovies.drop('genres', 1)\n"
          ]
        }
      ]
    },
    {
      "cell_type": "code",
      "source": [
        "userSubset = ratings[ratings['movieId'].isin(inputMovies['movieId'].tolist())]\n",
        "\n",
        "print(userSubset.groupby('movieId').count())"
      ],
      "metadata": {
        "colab": {
          "base_uri": "https://localhost:8080/"
        },
        "id": "9zz42cIqzT8l",
        "outputId": "438d73f7-4cdf-49b9-c886-12dd8764430c"
      },
      "execution_count": 5,
      "outputs": [
        {
          "output_type": "stream",
          "name": "stdout",
          "text": [
            "         userId  rating  timestamp\n",
            "movieId                           \n",
            "215        6582    6582       6582\n",
            "6155       5938    5938       5938\n",
            "40629      6043    6043       6043\n"
          ]
        }
      ]
    },
    {
      "cell_type": "code",
      "source": [
        "userSubsetGroup = userSubset.groupby(['userId'])\n",
        "\n",
        "def take_5_elem(x):\n",
        "    return len(x[1])\n",
        "\n",
        "userSubsetGroup = sorted(userSubsetGroup, key=take_5_elem, reverse=True)\n",
        "\n",
        "userSubsetGroup = userSubsetGroup[0:100]\n",
        "print(userSubsetGroup[0:5])"
      ],
      "metadata": {
        "colab": {
          "base_uri": "https://localhost:8080/"
        },
        "id": "qD4-vAUBzatd",
        "outputId": "89c1ac26-9f58-4b1c-a8bd-1c8398b364d1"
      },
      "execution_count": 6,
      "outputs": [
        {
          "output_type": "stream",
          "name": "stderr",
          "text": [
            "<ipython-input-6-344b483217c9>:9: FutureWarning: In a future version of pandas, a length 1 tuple will be returned when iterating over a groupby with a grouper equal to a list of length 1. Don't supply a list with a single grouper to avoid this warning.\n",
            "  userSubsetGroup = sorted(userSubsetGroup, key=take_5_elem, reverse=True) # get 5 sorted datas from each user\n"
          ]
        },
        {
          "output_type": "stream",
          "name": "stdout",
          "text": [
            "[(172,        userId  movieId  rating   timestamp\n",
            "21466     172      215     4.5  1422551150\n",
            "21507     172     6155     4.0  1422616131\n",
            "21523     172    40629     4.5  1422551078), (924,         userId  movieId  rating   timestamp\n",
            "129863     924      215     2.5  1191623997\n",
            "130145     924     6155     4.0  1180365562\n",
            "130226     924    40629     5.0  1192440539), (2032,         userId  movieId  rating   timestamp\n",
            "293797    2032      215     3.5  1225580806\n",
            "294473    2032     6155     3.5  1225750786\n",
            "294707    2032    40629     4.0  1225747292), (2775,         userId  movieId  rating   timestamp\n",
            "400981    2775      215     3.0  1009938293\n",
            "401909    2775     6155     3.5  1142880574\n",
            "402180    2775    40629     4.0  1135872353), (3742,         userId  movieId  rating   timestamp\n",
            "543330    3742      215     5.0  1280554074\n",
            "543948    3742     6155     1.5  1280623327\n",
            "544335    3742    40629     4.5  1280779410)]\n"
          ]
        }
      ]
    },
    {
      "cell_type": "code",
      "source": [
        "pearsonCorrelationDict = {}\n",
        "\n",
        "for name, group in userSubsetGroup:\n",
        "\n",
        "    group = group.sort_values(by='movieId')\n",
        "    inputMovies = inputMovies.sort_values(by='movieId')\n",
        "\n",
        "    nRatings = len(group)\n",
        "\n",
        "    temp_df = inputMovies[inputMovies['movieId'].isin(group['movieId'].tolist())]\n",
        "\n",
        "    tempRatingList = temp_df['rating'].tolist()\n",
        "\n",
        "    tempGroupList = group['rating'].tolist()\n",
        "\n",
        "    Sxx = sum([i**2 for i in tempRatingList]) - pow(sum(tempRatingList),2)/float(nRatings)\n",
        "    Syy = sum([i**2 for i in tempGroupList]) - pow(sum(tempGroupList),2)/float(nRatings)\n",
        "    Sxy = sum( i*j for i, j in zip(tempRatingList, tempGroupList)) - sum(tempRatingList)*sum(tempGroupList)/float(nRatings)\n",
        "\n",
        "    if Sxx != 0 and Syy != 0:\n",
        "        pearsonCorrelationDict[name] = Sxy/sqrt(Sxx*Syy)\n",
        "    else:\n",
        "        pearsonCorrelationDict[name] = 0"
      ],
      "metadata": {
        "id": "qR-GQEWLzdu5"
      },
      "execution_count": 7,
      "outputs": []
    },
    {
      "cell_type": "code",
      "source": [
        "pearsonDF = pd.DataFrame.from_dict(pearsonCorrelationDict, orient='index')\n",
        "pearsonDF.columns = ['similarityIndex']\n",
        "pearsonDF['userId'] = pearsonDF.index\n",
        "pearsonDF.index = range(len(pearsonDF))\n",
        "print(pearsonDF.head())"
      ],
      "metadata": {
        "colab": {
          "base_uri": "https://localhost:8080/"
        },
        "id": "Xr2ZvepTzgMK",
        "outputId": "d90bdf5c-f324-43ca-9759-97fe282f664b"
      },
      "execution_count": 8,
      "outputs": [
        {
          "output_type": "stream",
          "name": "stdout",
          "text": [
            "   similarityIndex  userId\n",
            "0         1.000000     172\n",
            "1        -0.114708     924\n",
            "2         0.500000    2032\n",
            "3         0.000000    2775\n",
            "4         0.991241    3742\n"
          ]
        }
      ]
    },
    {
      "cell_type": "code",
      "source": [
        "topUsers=pearsonDF.sort_values(by='similarityIndex', ascending=False)[0:50]\n",
        "print(topUsers.head())"
      ],
      "metadata": {
        "colab": {
          "base_uri": "https://localhost:8080/"
        },
        "id": "6FTFep6EzoXg",
        "outputId": "be4d10e7-640a-4816-e277-cdd39879327e"
      },
      "execution_count": 9,
      "outputs": [
        {
          "output_type": "stream",
          "name": "stdout",
          "text": [
            "    similarityIndex  userId\n",
            "82              1.0   34164\n",
            "39              1.0   18628\n",
            "58              1.0   27638\n",
            "36              1.0   17352\n",
            "78              1.0   32426\n"
          ]
        }
      ]
    },
    {
      "cell_type": "code",
      "source": [
        "topUsersRating=topUsers.merge(ratings, left_on='userId', right_on='userId', how='inner')\n",
        "print(topUsersRating.head(100))"
      ],
      "metadata": {
        "colab": {
          "base_uri": "https://localhost:8080/"
        },
        "id": "CeIZ0vDEzpWa",
        "outputId": "7edae71a-6e4d-452c-bb73-496b11f0ebd3"
      },
      "execution_count": 14,
      "outputs": [
        {
          "output_type": "stream",
          "name": "stdout",
          "text": [
            "    similarityIndex  userId  movieId  rating   timestamp\n",
            "0               1.0   34164        2     3.5  1516429399\n",
            "1               1.0   34164        6     3.5  1406729504\n",
            "2               1.0   34164        7     3.5  1551936726\n",
            "3               1.0   34164       10     3.5  1570454536\n",
            "4               1.0   34164       11     4.0  1495056697\n",
            "..              ...     ...      ...     ...         ...\n",
            "95              1.0   34164      665     4.0  1442500833\n",
            "96              1.0   34164      733     3.5  1459026869\n",
            "97              1.0   34164      736     3.0  1500474948\n",
            "98              1.0   34164      750     4.0  1406892572\n",
            "99              1.0   34164      778     4.0  1406729633\n",
            "\n",
            "[100 rows x 5 columns]\n"
          ]
        }
      ]
    },
    {
      "cell_type": "code",
      "source": [
        "topUsersRating['weightedRating'] = topUsersRating['similarityIndex']*topUsersRating['rating']\n",
        "print(topUsersRating.head())"
      ],
      "metadata": {
        "colab": {
          "base_uri": "https://localhost:8080/"
        },
        "id": "0yGGLfI8zxNo",
        "outputId": "68621f2d-289d-4b2e-ece4-77fa09075463"
      },
      "execution_count": 15,
      "outputs": [
        {
          "output_type": "stream",
          "name": "stdout",
          "text": [
            "   similarityIndex  userId  movieId  rating   timestamp  weightedRating\n",
            "0              1.0   34164        2     3.5  1516429399             3.5\n",
            "1              1.0   34164        6     3.5  1406729504             3.5\n",
            "2              1.0   34164        7     3.5  1551936726             3.5\n",
            "3              1.0   34164       10     3.5  1570454536             3.5\n",
            "4              1.0   34164       11     4.0  1495056697             4.0\n"
          ]
        }
      ]
    },
    {
      "cell_type": "code",
      "source": [
        "tempTopUsersRating = topUsersRating.groupby('movieId').sum()[['similarityIndex','weightedRating']]\n",
        "tempTopUsersRating.columns = ['sum_similarityIndex','sum_weightedRating']\n",
        "print(tempTopUsersRating.head())"
      ],
      "metadata": {
        "colab": {
          "base_uri": "https://localhost:8080/"
        },
        "id": "HwQ4RxuSzzLa",
        "outputId": "5c7facbb-26f1-48fa-fd92-c6b47c1ba997"
      },
      "execution_count": 16,
      "outputs": [
        {
          "output_type": "stream",
          "name": "stdout",
          "text": [
            "         sum_similarityIndex  sum_weightedRating\n",
            "movieId                                         \n",
            "1                  37.673433          142.548688\n",
            "2                  28.298348           80.438428\n",
            "3                   8.196533           24.796845\n",
            "4                   3.621873           12.243543\n",
            "5                  12.995299           34.441949\n"
          ]
        }
      ]
    },
    {
      "cell_type": "code",
      "source": [
        "recommendation_df = pd.DataFrame()\n",
        "\n",
        "recommendation_df['weighted average recommendation score'] = tempTopUsersRating['sum_weightedRating']/tempTopUsersRating['sum_similarityIndex']\n",
        "recommendation_df['movieId'] = tempTopUsersRating.index\n",
        "print(recommendation_df.head(10))"
      ],
      "metadata": {
        "colab": {
          "base_uri": "https://localhost:8080/"
        },
        "id": "9bXvDxaqz1bV",
        "outputId": "d21c323e-525d-4c4a-ca64-fd5f4084b686"
      },
      "execution_count": 17,
      "outputs": [
        {
          "output_type": "stream",
          "name": "stdout",
          "text": [
            "         weighted average recommendation score  movieId\n",
            "movieId                                                \n",
            "1                                     3.783799        1\n",
            "2                                     2.842513        2\n",
            "3                                     3.025284        3\n",
            "4                                     3.380445        4\n",
            "5                                     2.650339        5\n",
            "6                                     4.091523        6\n",
            "7                                     2.999064        7\n",
            "8                                     2.490381        8\n",
            "9                                     2.000000        9\n",
            "10                                    3.227686       10\n"
          ]
        }
      ]
    },
    {
      "cell_type": "code",
      "source": [
        "recommendation_df = recommendation_df.sort_values(by='weighted average recommendation score', ascending=False)\n",
        "print(recommendation_df)"
      ],
      "metadata": {
        "colab": {
          "base_uri": "https://localhost:8080/"
        },
        "id": "dG1g9JR9z4uq",
        "outputId": "4db16c0b-a296-4d4f-f0ae-fd54e7a24bd0"
      },
      "execution_count": 18,
      "outputs": [
        {
          "output_type": "stream",
          "name": "stdout",
          "text": [
            "         weighted average recommendation score  movieId\n",
            "movieId                                                \n",
            "4277                                       5.0     4277\n",
            "1156                                       5.0     1156\n",
            "70649                                      5.0    70649\n",
            "25901                                      5.0    25901\n",
            "87697                                      5.0    87697\n",
            "...                                        ...      ...\n",
            "132594                                     0.5   132594\n",
            "197179                                     0.5   197179\n",
            "197181                                     0.5   197181\n",
            "197197                                     0.5   197197\n",
            "141718                                     0.5   141718\n",
            "\n",
            "[14492 rows x 2 columns]\n"
          ]
        }
      ]
    },
    {
      "cell_type": "code",
      "source": [
        "recommended_movie=movies.loc[movies['movieId'].isin(recommendation_df['movieId'])]\n",
        "\n",
        "recommended_movie=recommended_movie.loc[~recommended_movie.movieId.isin(userSubset['movieId'])]\n",
        "\n",
        "print(recommended_movie)"
      ],
      "metadata": {
        "colab": {
          "base_uri": "https://localhost:8080/"
        },
        "id": "LN4k-hKrz7J8",
        "outputId": "4b3209f9-b33c-4b1d-9dae-ef206739fd5e"
      },
      "execution_count": 20,
      "outputs": [
        {
          "output_type": "stream",
          "name": "stdout",
          "text": [
            "       movieId                               title  \\\n",
            "0            1                    Toy Story (1995)   \n",
            "1            2                      Jumanji (1995)   \n",
            "2            3             Grumpier Old Men (1995)   \n",
            "3            4            Waiting to Exhale (1995)   \n",
            "4            5  Father of the Bride Part II (1995)   \n",
            "...        ...                                 ...   \n",
            "62274   208545                Eminence Hill (2019)   \n",
            "62283   208581                    30 Nights (2018)   \n",
            "62313   208715                  Let It Snow (2019)   \n",
            "62323   208747                The Good Liar (2019)   \n",
            "62341   208802                Minion Scouts (2019)   \n",
            "\n",
            "                                            genres  \n",
            "0      Adventure|Animation|Children|Comedy|Fantasy  \n",
            "1                       Adventure|Children|Fantasy  \n",
            "2                                   Comedy|Romance  \n",
            "3                             Comedy|Drama|Romance  \n",
            "4                                           Comedy  \n",
            "...                                            ...  \n",
            "62274                                      Western  \n",
            "62283                                       Comedy  \n",
            "62313                               Comedy|Romance  \n",
            "62323                                Drama|Mystery  \n",
            "62341                           (no genres listed)  \n",
            "\n",
            "[14489 rows x 3 columns]\n"
          ]
        }
      ]
    }
  ]
}